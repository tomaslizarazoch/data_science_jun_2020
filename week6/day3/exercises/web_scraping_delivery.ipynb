{
 "cells": [
  {
   "cell_type": "markdown",
   "metadata": {},
   "source": [
    "### 1. From HTML\n",
    "\n",
    "*Using only beautiful soap*\n",
    "\n",
    "Save in a dataframe the next information using web scraping. Each row of the dataframe must have in different columns:\n",
    "\n",
    "- The name of the title\n",
    "- The id of the div where is the value scraped. If there is not id, then the value is must be numpy.nan\n",
    "- The name of the tag where is the value scraped.\n",
    "- The next scraped values in different rows: \n",
    "    - The value: \"Este es el segundo párrafo\"  --> Row 1\n",
    "    - The url https://pagina1.xyz/ --> Row 2\n",
    "    - The url https://pagina4.xyz/ --> Row 3\n",
    "    - The url https://pagina5.xyz/ --> Row 4\n",
    "    - The value \"links footer-links\" --> Row 5\n",
    "    - The value \"Este párrafo está en el footer\" --> Row 6"
   ]
  },
  {
   "cell_type": "code",
   "execution_count": 1,
   "metadata": {},
   "outputs": [],
   "source": [
    "html = \"\"\"<html lang=\"es\">\n",
    "<head>\n",
    "    <meta charset=\"UTF-8\">\n",
    "    <title>Página de prueba</title>\n",
    "</head>\n",
    "<body>\n",
    "<div id=\"main\" class=\"full-width\">\n",
    "    <h1>El título de la página</h1>\n",
    "    <p>Este es el primer párrafo</p>\n",
    "    <p>Este es el segundo párrafo</p>\n",
    "    <div id=\"innerDiv\">\n",
    "        <div class=\"links\">\n",
    "            <a href=\"https://pagina1.xyz/\">Enlace 1</a>\n",
    "            <a href=\"https://pagina2.xyz/\">Enlace 2</a>\n",
    "        </div>\n",
    "        <div class=\"right\">\n",
    "            <div class=\"links\">\n",
    "                <a href=\"https://pagina3.xyz/\">Enlace 3</a>\n",
    "                <a href=\"https://pagina4.xyz/\">Enlace 4</a>\n",
    "            </div>\n",
    "        </div>\n",
    "    </div>\n",
    "    <div id=\"footer\">\n",
    "        <!-- El footer -->\n",
    "        <p>Este párrafo está en el footer</p>\n",
    "        <div class=\"links footer-links\">\n",
    "            <a href=\"https://pagina5.xyz/\">Enlace 5</a>\n",
    "        </div>\n",
    "    </div>\n",
    "</div>\n",
    "</body>\n",
    "</html>\"\"\""
   ]
  },
  {
   "cell_type": "code",
   "execution_count": 17,
   "metadata": {},
   "outputs": [],
   "source": [
    "# To show beautiful html\n",
    "def show_html(html_str):\n",
    "    print(BeautifulSoup(str(html_str), 'html.parser').prettify())"
   ]
  },
  {
   "cell_type": "code",
   "execution_count": 13,
   "metadata": {},
   "outputs": [
    {
     "output_type": "execute_result",
     "data": {
      "text/plain": "['main', 'innerDiv', 'footer']"
     },
     "metadata": {},
     "execution_count": 13
    }
   ],
   "source": [
    "import re\n",
    "import bs4\n",
    "import requests\n",
    "\n",
    "soup = bs4.BeautifulSoup(html)\n",
    "\n",
    "x = [re.search('\"\\w+\"', e).group()[1:-1] for e in re.findall(\"id=.*\",str(soup.contents[0]))]\n",
    "\n",
    "x"
   ]
  },
  {
   "cell_type": "code",
   "execution_count": 7,
   "metadata": {},
   "outputs": [
    {
     "output_type": "execute_result",
     "data": {
      "text/plain": "bs4.element.Tag"
     },
     "metadata": {},
     "execution_count": 7
    }
   ],
   "source": [
    "type(soup.contents[0])"
   ]
  },
  {
   "cell_type": "code",
   "execution_count": 79,
   "metadata": {},
   "outputs": [
    {
     "output_type": "execute_result",
     "data": {
      "text/plain": "'Página de prueba'"
     },
     "metadata": {},
     "execution_count": 79
    }
   ],
   "source": [
    "titulo = soup.find('title')\n",
    "titulo = titulo.contents[0]\n",
    "titulo"
   ]
  },
  {
   "cell_type": "code",
   "execution_count": 24,
   "metadata": {},
   "outputs": [
    {
     "output_type": "execute_result",
     "data": {
      "text/plain": "['id=\"main\">', 'id=\"innerDiv\">', 'id=\"footer\">']"
     },
     "metadata": {},
     "execution_count": 24
    }
   ],
   "source": [
    "lista = re.findall(\"id=.*\",str(soup.contents[0]))\n",
    "lista"
   ]
  },
  {
   "cell_type": "code",
   "execution_count": 25,
   "metadata": {
    "tags": []
   },
   "outputs": [
    {
     "output_type": "stream",
     "name": "stdout",
     "text": "main\ninnerDiv\nfooter\n"
    }
   ],
   "source": [
    "for e in lista:\n",
    "    print(re.search('\"\\w+\"', e).group()[1:-1])"
   ]
  },
  {
   "cell_type": "code",
   "execution_count": 34,
   "metadata": {},
   "outputs": [
    {
     "output_type": "execute_result",
     "data": {
      "text/plain": "['Este es el segundo párrafo']"
     },
     "metadata": {},
     "execution_count": 34
    }
   ],
   "source": [
    "row1 = soup.find_all('p')\n",
    "row1 = row1[1]\n",
    "row1 = row1.contents[0:1]\n",
    "row1\n"
   ]
  },
  {
   "cell_type": "code",
   "execution_count": 56,
   "metadata": {},
   "outputs": [
    {
     "output_type": "execute_result",
     "data": {
      "text/plain": "5"
     },
     "metadata": {},
     "execution_count": 56
    }
   ],
   "source": [
    "links = soup.find_all('a')\n",
    "links = list(links)\n",
    "type(links)\n",
    "len(links)"
   ]
  },
  {
   "cell_type": "code",
   "execution_count": 83,
   "metadata": {},
   "outputs": [
    {
     "output_type": "execute_result",
     "data": {
      "text/plain": "[<a href=\"https://pagina1.xyz/\">Enlace 1</a>,\n <a href=\"https://pagina2.xyz/\">Enlace 2</a>,\n <a href=\"https://pagina3.xyz/\">Enlace 3</a>,\n <a href=\"https://pagina4.xyz/\">Enlace 4</a>,\n <a href=\"https://pagina5.xyz/\">Enlace 5</a>]"
     },
     "metadata": {},
     "execution_count": 83
    }
   ],
   "source": [
    "links[:]"
   ]
  },
  {
   "cell_type": "code",
   "execution_count": 84,
   "metadata": {
    "tags": []
   },
   "outputs": [
    {
     "output_type": "execute_result",
     "data": {
      "text/plain": "['https://pagina1.xyz/',\n 'https://pagina2.xyz/',\n 'https://pagina3.xyz/',\n 'https://pagina4.xyz/',\n 'https://pagina5.xyz/']"
     },
     "metadata": {},
     "execution_count": 84
    }
   ],
   "source": [
    "enlaces = []\n",
    "for elem in links:\n",
    "    \n",
    "    enlaces.append(elem.get('href'))\n",
    "enlaces\n"
   ]
  },
  {
   "cell_type": "code",
   "execution_count": 85,
   "metadata": {},
   "outputs": [
    {
     "output_type": "execute_result",
     "data": {
      "text/plain": "'https://pagina1.xyz/'"
     },
     "metadata": {},
     "execution_count": 85
    }
   ],
   "source": [
    "row2 = enlaces[0]\n",
    "row2"
   ]
  },
  {
   "cell_type": "code",
   "execution_count": 86,
   "metadata": {},
   "outputs": [
    {
     "output_type": "execute_result",
     "data": {
      "text/plain": "'https://pagina4.xyz/'"
     },
     "metadata": {},
     "execution_count": 86
    }
   ],
   "source": [
    "row3 = enlaces[3]\n",
    "row3"
   ]
  },
  {
   "cell_type": "code",
   "execution_count": 87,
   "metadata": {},
   "outputs": [
    {
     "output_type": "execute_result",
     "data": {
      "text/plain": "'https://pagina5.xyz/'"
     },
     "metadata": {},
     "execution_count": 87
    }
   ],
   "source": [
    "row4 = enlaces[4]\n",
    "row4"
   ]
  },
  {
   "cell_type": "code",
   "execution_count": 166,
   "metadata": {},
   "outputs": [
    {
     "output_type": "execute_result",
     "data": {
      "text/plain": "'footer-links'"
     },
     "metadata": {},
     "execution_count": 166
    }
   ],
   "source": [
    "q = soup.select('div')[-1]\n",
    "q = q.get('class')[1]\n",
    "q "
   ]
  },
  {
   "cell_type": "code",
   "execution_count": 154,
   "metadata": {},
   "outputs": [
    {
     "output_type": "execute_result",
     "data": {
      "text/plain": "['Este párrafo está en el footer']"
     },
     "metadata": {},
     "execution_count": 154
    }
   ],
   "source": [
    "row6 = soup.find_all('p')[2]\n",
    "row6 = row6.contents[:]\n",
    "row6"
   ]
  },
  {
   "cell_type": "markdown",
   "metadata": {},
   "source": [
    "### 2. From Amazon\n",
    "\n",
    "*Using  beautiful soap and/or regex*\n",
    "\n",
    "Save in a dataframe the next information using web scraping. Using product pages from Amazon, do the following: \n",
    "\n",
    "- Get the product name from the web and save it in a column called \"item_name\"\n",
    "- Get the price from the web and save it in a column called \"item_price\"\n",
    "\n",
    "While you are doing the exercise, document the steps you are doing. Try to do the program for generic pages. If you cannot do it generic, explain the reasons. \n",
    "\n",
    "-------------------------------\n",
    "\n",
    "**Example:** \n",
    "\n",
    "url = https://www.amazon.es/Tommy-Hilfiger-UM0UM00054-Camiseta-Hombre/dp/B01MYD0T1F/ref=sr_1_1?dchild=1&pf_rd_p=58224bec-cac9-4dd2-a42a-61b1db609c2d&pf_rd_r=VZQ1JTQXFVRZ9E9VSKX4&qid=1595364419&s=apparel&sr=1-1\n",
    "\n",
    "*item_name* --> \"Tommy Hilfiger Logo Camiseta de Cuello Redondo,Perfecta para El Tiempo Libre para Hombre\"\n",
    "\n",
    "*item_price* --> [[18,99 € - 46,59 €]] or one of the options.\n",
    "\n",
    "\n"
   ]
  },
  {
   "cell_type": "code",
   "execution_count": null,
   "metadata": {},
   "outputs": [],
   "source": []
  }
 ],
 "metadata": {
  "language_info": {
   "codemirror_mode": {
    "name": "ipython",
    "version": 3
   },
   "file_extension": ".py",
   "mimetype": "text/x-python",
   "name": "python",
   "nbconvert_exporter": "python",
   "pygments_lexer": "ipython3",
   "version": 3
  },
  "orig_nbformat": 2,
  "kernelspec": {
   "name": "python_defaultSpec_1595512165725",
   "display_name": "Python 3.6.4 64-bit"
  }
 },
 "nbformat": 4,
 "nbformat_minor": 2
}